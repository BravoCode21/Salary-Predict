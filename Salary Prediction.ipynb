{
 "cells": [
  {
   "cell_type": "markdown",
   "id": "0ab53b0d",
   "metadata": {},
   "source": [
    "SIMPLE SALARY PREDICTION USING LINEAR REGRESSION ND POLYNOMIAL"
   ]
  },
  {
   "cell_type": "code",
   "execution_count": 1,
   "id": "c8611559",
   "metadata": {},
   "outputs": [],
   "source": [
    "#import dependecies\n",
    "import numpy as np\n",
    "import pandas as pd\n",
    "import matplotlib.pyplot as plt"
   ]
  },
  {
   "cell_type": "code",
   "execution_count": 3,
   "id": "b3af3403",
   "metadata": {},
   "outputs": [],
   "source": [
    "#load dataset\n",
    "dataset=pd.read_csv(r\"C:\\Users\\Gideon\\Desktop\\DS\\salary-prediction\\Salary.csv\")"
   ]
  },
  {
   "cell_type": "code",
   "execution_count": 4,
   "id": "847245bf",
   "metadata": {},
   "outputs": [
    {
     "data": {
      "text/html": [
       "<div>\n",
       "<style scoped>\n",
       "    .dataframe tbody tr th:only-of-type {\n",
       "        vertical-align: middle;\n",
       "    }\n",
       "\n",
       "    .dataframe tbody tr th {\n",
       "        vertical-align: top;\n",
       "    }\n",
       "\n",
       "    .dataframe thead th {\n",
       "        text-align: right;\n",
       "    }\n",
       "</style>\n",
       "<table border=\"1\" class=\"dataframe\">\n",
       "  <thead>\n",
       "    <tr style=\"text-align: right;\">\n",
       "      <th></th>\n",
       "      <th>YearsExperience</th>\n",
       "      <th>Salary</th>\n",
       "    </tr>\n",
       "  </thead>\n",
       "  <tbody>\n",
       "    <tr>\n",
       "      <th>0</th>\n",
       "      <td>1.1</td>\n",
       "      <td>39343</td>\n",
       "    </tr>\n",
       "    <tr>\n",
       "      <th>1</th>\n",
       "      <td>1.3</td>\n",
       "      <td>46205</td>\n",
       "    </tr>\n",
       "    <tr>\n",
       "      <th>2</th>\n",
       "      <td>1.5</td>\n",
       "      <td>37731</td>\n",
       "    </tr>\n",
       "    <tr>\n",
       "      <th>3</th>\n",
       "      <td>2.0</td>\n",
       "      <td>43525</td>\n",
       "    </tr>\n",
       "    <tr>\n",
       "      <th>4</th>\n",
       "      <td>2.2</td>\n",
       "      <td>39891</td>\n",
       "    </tr>\n",
       "  </tbody>\n",
       "</table>\n",
       "</div>"
      ],
      "text/plain": [
       "   YearsExperience  Salary\n",
       "0              1.1   39343\n",
       "1              1.3   46205\n",
       "2              1.5   37731\n",
       "3              2.0   43525\n",
       "4              2.2   39891"
      ]
     },
     "execution_count": 4,
     "metadata": {},
     "output_type": "execute_result"
    }
   ],
   "source": [
    "dataset.head()"
   ]
  },
  {
   "cell_type": "code",
   "execution_count": 5,
   "id": "2b34f9aa",
   "metadata": {},
   "outputs": [],
   "source": [
    "#year of experience - independent variable while salary is dependent"
   ]
  },
  {
   "cell_type": "code",
   "execution_count": 10,
   "id": "aaa680a6",
   "metadata": {},
   "outputs": [],
   "source": [
    "#etracting the column variables for x\n",
    "x = dataset.iloc[:,:1].values\n",
    "#print(x)"
   ]
  },
  {
   "cell_type": "code",
   "execution_count": 9,
   "id": "6acd53bf",
   "metadata": {},
   "outputs": [],
   "source": [
    "y = dataset.iloc[:,1:].values\n",
    "#print(y)"
   ]
  },
  {
   "cell_type": "code",
   "execution_count": 11,
   "id": "2c26297d",
   "metadata": {},
   "outputs": [
    {
     "data": {
      "text/plain": [
       "<matplotlib.collections.PathCollection at 0x2a3fe661d30>"
      ]
     },
     "execution_count": 11,
     "metadata": {},
     "output_type": "execute_result"
    },
    {
     "data": {
      "image/png": "[encoded data removed]",
      "text/plain": [
       "<Figure size 432x288 with 1 Axes>"
      ]
     },
     "metadata": {
      "needs_background": "light"
     },
     "output_type": "display_data"
    }
   ],
   "source": [
    "fig=plt.figure()\n",
    "ax=fig.add_axes([0,0,1,1])\n",
    "ax.scatter(x,y,color='r')\n"
   ]
  },
  {
   "cell_type": "code",
   "execution_count": 17,
   "id": "ed5becc5",
   "metadata": {},
   "outputs": [],
   "source": [
    "from sklearn.model_selection import train_test_split\n",
    "x_train, x_test, y_train, y_test = train_test_split(x, y, test_size=0.1, random_state=1) "
   ]
  },
  {
   "cell_type": "markdown",
   "id": "d81ec75f",
   "metadata": {},
   "source": [
    "Regressor Model"
   ]
  },
  {
   "cell_type": "code",
   "execution_count": 18,
   "id": "3c132f1a",
   "metadata": {},
   "outputs": [],
   "source": [
    "from sklearn.linear_model import LinearRegression\n",
    "regressor = LinearRegression()"
   ]
  },
  {
   "cell_type": "code",
   "execution_count": 19,
   "id": "265e36c0",
   "metadata": {},
   "outputs": [
    {
     "data": {
      "text/plain": [
       "LinearRegression()"
      ]
     },
     "execution_count": 19,
     "metadata": {},
     "output_type": "execute_result"
    }
   ],
   "source": [
    "regressor.fit(x_train, y_train)"
   ]
  },
  {
   "cell_type": "code",
   "execution_count": 27,
   "id": "aa4b747b",
   "metadata": {},
   "outputs": [
    {
     "data": {
      "text/plain": [
       "array([[ 68139.7925167 ],\n",
       "       [ 81141.02146993],\n",
       "       [ 46471.07759465],\n",
       "       [120144.70832962]])"
      ]
     },
     "execution_count": 27,
     "metadata": {},
     "output_type": "execute_result"
    }
   ],
   "source": [
    "y_predict = regressor.predict(x_test)\n",
    "y_predict"
   ]
  },
  {
   "cell_type": "code",
   "execution_count": 22,
   "id": "072f489d",
   "metadata": {},
   "outputs": [
    {
     "data": {
      "text/plain": [
       "array([[ 61111],\n",
       "       [ 93940],\n",
       "       [ 43525],\n",
       "       [121872]], dtype=int64)"
      ]
     },
     "execution_count": 22,
     "metadata": {},
     "output_type": "execute_result"
    }
   ],
   "source": [
    "y_test"
   ]
  },
  {
   "cell_type": "code",
   "execution_count": 23,
   "id": "f17bf2f4",
   "metadata": {},
   "outputs": [
    {
     "data": {
      "text/plain": [
       "[<matplotlib.lines.Line2D at 0x2a3ffe26490>]"
      ]
     },
     "execution_count": 23,
     "metadata": {},
     "output_type": "execute_result"
    },
    {
     "data": {
      "image/png": "[encoded data removed]",
      "text/plain": [
       "<Figure size 432x288 with 1 Axes>"
      ]
     },
     "metadata": {
      "needs_background": "light"
     },
     "output_type": "display_data"
    }
   ],
   "source": [
    "plt.scatter(x,y, color ='r')\n",
    "plt.plot(x, regressor.predict(x), color='blue')"
   ]
  },
  {
   "cell_type": "markdown",
   "id": "49aa68ce",
   "metadata": {},
   "source": [
    "Ploynomial model"
   ]
  },
  {
   "cell_type": "code",
   "execution_count": 28,
   "id": "1ced0f72",
   "metadata": {},
   "outputs": [],
   "source": [
    "from sklearn.preprocessing import PolynomialFeatures\n"
   ]
  },
  {
   "cell_type": "code",
   "execution_count": 30,
   "id": "c605f6be",
   "metadata": {},
   "outputs": [],
   "source": [
    "poly = PolynomialFeatures(degree=2)\n",
    "x_poly = poly.fit_transform(x)"
   ]
  },
  {
   "cell_type": "code",
   "execution_count": null,
   "id": "97641169",
   "metadata": {},
   "outputs": [],
   "source": [
    "regressor.fit(x_poly, y)"
   ]
  },
  {
   "cell_type": "code",
   "execution_count": 32,
   "id": "f4e7429e",
   "metadata": {},
   "outputs": [
    {
     "data": {
      "text/plain": [
       "<matplotlib.collections.PathCollection at 0x2a3ffe30580>"
      ]
     },
     "execution_count": 32,
     "metadata": {},
     "output_type": "execute_result"
    },
    {
     "data": {
      "image/png": "[encoded data removed]",
      "text/plain": [
       "<Figure size 432x288 with 1 Axes>"
      ]
     },
     "metadata": {
      "needs_background": "light"
     },
     "output_type": "display_data"
    }
   ],
   "source": [
    "plt.scatter(x,y, color ='r')\n",
    "plt.plot(x, regressor.predict(poly.fit_transform(x)), color='blue')"
   ]
  },
  {
   "cell_type": "code",
   "execution_count": null,
   "id": "f38e9b11",
   "metadata": {},
   "outputs": [],
   "source": [
    "#compare the predicted values"
   ]
  }
 ],
 "metadata": {
  "kernelspec": {
   "display_name": "Python 3",
   "language": "python",
   "name": "python3"
  },
  "language_info": {
   "codemirror_mode": {
    "name": "ipython",
    "version": 3
   },
   "file_extension": ".py",
   "mimetype": "text/x-python",
   "name": "python",
   "nbconvert_exporter": "python",
   "pygments_lexer": "ipython3",
   "version": "3.8.8"
  }
 },
 "nbformat": 4,
 "nbformat_minor": 5
}
